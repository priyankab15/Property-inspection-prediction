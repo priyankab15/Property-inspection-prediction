{
 "cells": [
  {
   "cell_type": "markdown",
   "metadata": {},
   "source": [
    "# Liberty Mutual Insurance: Property Inspection Prediction"
   ]
  },
  {
   "attachments": {},
   "cell_type": "markdown",
   "metadata": {},
   "source": [
    "Liberty mutual insurance provides a wide range of insurance products and services to meet their customer needs. Many newly properties receive a home inspection to ensure that Liberty mutual portfolio aligns their business objectives. Investigators audit the main key attributes of the property along with foundation, roof, windows and siding. These results help Liberty mutual group to decide whether property is one they need to insure. "
   ]
  },
  {
   "attachments": {},
   "cell_type": "markdown",
   "metadata": {},
   "source": [
    "## Installing\n",
    "\n",
    "A step by step process installing packages:\n",
    "1. import pandas as pd\n",
    "2. import os\n",
    "3. import numpy as np\n",
    "4. import xgboost as xgb\n",
    "5. import operator\n",
    "6. from matplotlib import pylab as plt\n",
    "7. from sklearn.metrics import r2_score\n",
    "8. from sklearn.model_selection import train_test_split\n",
    "9. from sklearn.linear_model import LinearRegression\n",
    "10. from sklearn.metrics import mean_squared_error\n",
    "11. from sklearn.linear_model import RidgeCV\n",
    "12. from sklearn import linear_model\n",
    "13. from sklearn.ensemble import RandomForestRegressor\n",
    "14. from sklearn.metrics import precision_recall_fscore_support\n"
   ]
  },
  {
   "cell_type": "markdown",
   "metadata": {},
   "source": [
    "## Reading Data \n",
    "Reading dataset to a variable name \"data\"."
   ]
  },
  {
   "cell_type": "markdown",
   "metadata": {},
   "source": [
    "## Data Pre-processing\n",
    "\n",
    "###  Check null values \n",
    "\n",
    "### *Convert categorical variables to numbers\n",
    "Converted all categorical variables to numbers by grouping the mean values of Hazard score\n",
    "\n",
    "### Xgboost Feature Importance\n",
    "1. Set xgboost parameters\n",
    "2. Set number of rounds\n",
    "3. Use get_fscore to find the importance of features"
   ]
  },
  {
   "cell_type": "markdown",
   "metadata": {},
   "source": [
    "## Train Test Split\n",
    "Splitting the data into train (70%) and test (30%) using sklearn.model_selection"
   ]
  },
  {
   "attachments": {},
   "cell_type": "markdown",
   "metadata": {},
   "source": [
    "## Models\n",
    "### Parametric models\n",
    "#### Multivariate Linear Regression\n",
    "Multivariate Linear regression is a basic approach for the prediction problem for modelling between a target variable and explanatory variables. \n",
    "1. Build a model\n",
    "2. Fit using model.fit(X,y)\n",
    "3. Predict y\n",
    "4. Print R2 using r2_score\n",
    "\n",
    "#### Ridge Regression\n",
    "Ridge regression uses an l2-norm penalty to improve OLS when the covariates are correlated. \n",
    "1. Build a model setting alpha=0.05\n",
    "2. Fit using model.fit(X,y)\n",
    "3. Predict y\n",
    "4. Print R2 using r2_score\n",
    "\n",
    "#### Lasso Regression\n",
    "Laaso regression uses an l1-norm penalty to improve OLS when covariates are correlated.\n",
    "1. Build a model setting alpha=0.006\n",
    "2. Fit using model.fit(X,y)\n",
    "3. Predict y\n",
    "4. Print R2 using r2_score\n",
    "\n",
    "### Non-parametric models\n",
    "#### Random Forest\n",
    "A random forest fits the number of decision tree classifiers on various sub-samples of the dataset and uses averaging to improve the predictive accuracy and control over-fitting.\n",
    "1. Build a model m=500, n=11\n",
    "2. Fit using model.fit(X,y)\n",
    "3. Predict y\n",
    "4. Print R2 using r2_score\n"
   ]
  },
  {
   "cell_type": "markdown",
   "metadata": {},
   "source": [
    "## Plot\n",
    "Plot R squared values of all the models using matplotlib"
   ]
  },
  {
   "cell_type": "code",
   "execution_count": null,
   "metadata": {},
   "outputs": [],
   "source": []
  }
 ],
 "metadata": {
  "kernelspec": {
   "display_name": "Python 3",
   "language": "python",
   "name": "python3"
  },
  "language_info": {
   "codemirror_mode": {
    "name": "ipython",
    "version": 3
   },
   "file_extension": ".py",
   "mimetype": "text/x-python",
   "name": "python",
   "nbconvert_exporter": "python",
   "pygments_lexer": "ipython3",
   "version": "3.6.4"
  }
 },
 "nbformat": 4,
 "nbformat_minor": 2
}
